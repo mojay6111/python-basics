{
  "cells": [
    {
      "cell_type": "markdown",
      "metadata": {
        "id": "view-in-github",
        "colab_type": "text"
      },
      "source": [
        "<a href=\"https://colab.research.google.com/github/mojay6111/python-basics/blob/main/Control%20Flow%3A%20Conditionals.ipynb\" target=\"_parent\"><img src=\"https://colab.research.google.com/assets/colab-badge.svg\" alt=\"Open In Colab\"/></a>"
      ]
    },
    {
      "cell_type": "markdown",
      "metadata": {
        "id": "oLRFhg93MqEa"
      },
      "source": [
        "# Control Flow: Conditionals\n",
        "\n",
        "## Introduction\n",
        "\n",
        "We have talked about different data types, how to use them, and the kinds of operations that we can perform on them. We have also talked about using Booleans (`True` or `False`) to inform decisions in our programming. Often when we want to implement a decision in our code, we'll use conditionals. Conditionals allow us to break up our code in a way that we can selectively perform operations like assigning a value or even just printing text.\n",
        "\n",
        "## Objectives\n",
        "\n",
        "You will be able to:\n",
        "\n",
        "* Use Python conditional statements\n",
        "\n",
        "## Execution Flow\n",
        "\n",
        " So far in Python, all of our lines of code run one after the other. So in the code below, `vacation_days` is initially assigned to `0`, then it is reassigned by incrementing by one, and again reassigned by incrementing again by one, which brings the `vacation_days` to a total of `2`."
      ]
    },
    {
      "cell_type": "code",
      "execution_count": 1,
      "metadata": {
        "id": "lndUb82cMqEc",
        "outputId": "d3410f9f-404b-4500-8015-c93f2c91ae16",
        "colab": {
          "base_uri": "https://localhost:8080/"
        }
      },
      "outputs": [
        {
          "output_type": "stream",
          "name": "stdout",
          "text": [
            "2\n"
          ]
        }
      ],
      "source": [
        "# set-up vacation_days variable\n",
        "vacation_days = 0\n",
        "\n",
        "# add 1 to vacation_days and rewrite itself\n",
        "vacation_days = vacation_days + 1\n",
        "vacation_days = vacation_days + 1\n",
        "\n",
        "# print how many vacation days there are\n",
        "print(vacation_days)"
      ]
    },
    {
      "cell_type": "code",
      "execution_count": 2,
      "metadata": {
        "id": "0BqyHhvwMqEd",
        "outputId": "8ce58a71-5787-4b0d-c5ce-e26da3a06190",
        "colab": {
          "base_uri": "https://localhost:8080/"
        }
      },
      "outputs": [
        {
          "output_type": "stream",
          "name": "stdout",
          "text": [
            "2\n"
          ]
        }
      ],
      "source": [
        "# reset variable to 0\n",
        "vacation_days = 0\n",
        "\n",
        "# this does the same as above\n",
        "vacation_days += 1\n",
        "vacation_days += 1\n",
        "\n",
        "# print how many vacation days there are\n",
        "print(vacation_days)"
      ]
    },
    {
      "cell_type": "markdown",
      "metadata": {
        "id": "b1rcqJYaMqEd"
      },
      "source": [
        "> The `+=` is used to increment the current value of the variable and assign this new value back to it. The statement `vacation_days += 1` can be thought of as `vacation_days = vacation_days + 1`.\n",
        "On line 1 we assign `vacation_days` the value `0`. So, on line two, we reassign `vacation_days` to equal the current value of `vacation_days`, which is `0`, plus `1`. Again we increment vacation_days on line 3, which would now equate to `1 + 1`, and finally we output the new value of `vacation_days`, `2`.\n",
        "\n",
        "## If Statement\n",
        "In Python there are three conditional statements, `if`, `elif`, and `else`. Every conditional statement is required to begin with an `if`. The `elif` and `else` statements are not always required. `elif` is short for **else if**.\n",
        "\n",
        "Now what if we wanted to only increment our vacation days based on a condition? We could imagine a condition in this context being whether or not we hit our goals this quarter at work. If that condition were `True`, we would want to increase our vacation days. However, if that condition is not `True`, we can't increase our vacation time. Let's look at the code below that contains an `if` statement.\n",
        "\n",
        "Code that is part of an `if` statement *block* runs only when the condition evaluates to `True`. So if the condition evaluates to `False` our block of code will not be run and it moves on to the next block.\n",
        "\n",
        "> **Note:** A *block* is any code that is grouped together. With conditionals, we indicate that something is part of the *block* by *indentation*. So the line `vacation_days += 1` is indented to ensure that it is run as a part of the conditional argument below. To end the block we simply stop indenting.\n",
        "\n",
        "> **Note:** In all of the following code blocks, pay close attention to how the variable `vacation_days` is affected depending on the value and order of the conditions. The idea is to understand how Python decides which code should run when it comes across an `if`, `elif`, and `else` statement."
      ]
    },
    {
      "cell_type": "code",
      "execution_count": 3,
      "metadata": {
        "id": "yHlor-YzMqEe",
        "outputId": "267d5c23-40e5-4ee6-f08f-1325d005dfcf",
        "colab": {
          "base_uri": "https://localhost:8080/"
        }
      },
      "outputs": [
        {
          "output_type": "stream",
          "name": "stdout",
          "text": [
            "vacation_days =  2\n",
            "we incremented vacation days\n"
          ]
        }
      ],
      "source": [
        "vacation_days = 1\n",
        "goals_met = True\n",
        "if goals_met:\n",
        "    # all code indented under the if statement is the block\n",
        "    # indented code runs since conditional argument is True\n",
        "    vacation_days += 1\n",
        "    print(\"vacation_days = \", vacation_days)\n",
        "    print(\"we incremented vacation days\")\n",
        "# if block ends"
      ]
    },
    {
      "cell_type": "markdown",
      "metadata": {
        "id": "AfRjl2NuMqEe"
      },
      "source": [
        "Because our condition was `True`, our block of code ran. We added 1 day to our `vacation_days` variable and printed two statements.\n",
        "\n",
        "What if the first conditional was set to `False` but we wanted to make sure there is *some* code that runs no matter what? That is where we can use our `else` statement."
      ]
    },
    {
      "cell_type": "code",
      "execution_count": null,
      "metadata": {
        "id": "808y_DsBMqEe",
        "outputId": "68fbe48c-0d32-4b3d-d9da-be0595d84c68"
      },
      "outputs": [
        {
          "name": "stdout",
          "output_type": "stream",
          "text": [
            "vacation_days =  1\n",
            "we did NOT increment vacation days\n"
          ]
        }
      ],
      "source": [
        "vacation_days = 1\n",
        "goals_met = False\n",
        "if goals_met:\n",
        "    # if block starts\n",
        "    # code does not run since conditional argument is False\n",
        "    vacation_days += 1\n",
        "    print(\"vacation_days = \", vacation_days)\n",
        "    print(\"we incremented vacation days\")\n",
        "# if block ends\n",
        "else:\n",
        "    # else block starts\n",
        "    print(\"vacation_days = \", vacation_days)\n",
        "    print(\"we did NOT increment vacation days\")\n",
        "# else block ends"
      ]
    },
    {
      "cell_type": "markdown",
      "metadata": {
        "collapsed": true,
        "id": "2gOURAmkMqEe"
      },
      "source": [
        "Above we can see that the condition following the `if` is `False` and the code directly underneath is not run. The variable `vacation_days` stays assigned to the number 1. However, since we now have an `else` statement, our `if` block gets skipped and we then move on to the block of code underneath our `else` statement, which we can see prints the number of vacation days and a message indicating that we did not increment the vacation days.\n",
        "\n",
        "But what if we have a second condition? Let's say we really worked hard and exceeded all our goals for the quarter? Maybe instead of incrementing just `1` day, we increment our vacation days by `2`! The third conditional statement is an `elif` statement, which is essentially another `if` statement that follows the first `if` statement. `elif` still requires a condition and a block of code, but it only comes after an `if` statement or another `elif` statement.\n",
        "\n",
        "Let's take a look:"
      ]
    },
    {
      "cell_type": "code",
      "execution_count": 4,
      "metadata": {
        "id": "9K_C-lD6MqEe",
        "outputId": "5e0bb463-9461-48af-96ab-6a1099479f5b",
        "colab": {
          "base_uri": "https://localhost:8080/"
        }
      },
      "outputs": [
        {
          "output_type": "stream",
          "name": "stdout",
          "text": [
            "We are now in our elif statement!\n",
            "This means that we exceeded our goals this quarter\n",
            "We will increase our vacation days by two\n",
            "vacation_days =  3\n"
          ]
        }
      ],
      "source": [
        "vacation_days = 1\n",
        "goals_met = False\n",
        "goals_exceeded = True\n",
        "if goals_met:\n",
        "    # code does not run since conditional argument is False\n",
        "    vacation_days += 1\n",
        "    print(\"vacation_days = \", vacation_days)\n",
        "    print(\"we incremented vacation days\")\n",
        "elif goals_exceeded:\n",
        "    print(\"We are now in our elif statement!\")\n",
        "    print(\"This means that we exceeded our goals this quarter\")\n",
        "    print(\"We will increase our vacation days by two\")\n",
        "    vacation_days += 2\n",
        "    print(\"vacation_days = \", vacation_days)\n",
        "else:\n",
        "    print(\"vacation_days = \", vacation_days)\n",
        "    print(\"we did NOT increment vacation days\")"
      ]
    },
    {
      "cell_type": "markdown",
      "metadata": {
        "id": "XojGA8NjMqEf"
      },
      "source": [
        "It is important to note that an `else` block comes last and will **only** run if all the conditions before it are false.\n",
        "\n",
        "## Truthiness\n",
        "\n",
        "So far our conditionals have depended on whether something evaluates exactly to `True` or `False`.  But conditionals don't force us to be so precise. Conditionals also consider some values `True` if they are `truthy` and `False` if they are `falsy`.  Take a look at the following:"
      ]
    },
    {
      "cell_type": "code",
      "execution_count": 5,
      "metadata": {
        "id": "r0Qf1Z6uMqEf",
        "outputId": "828d13af-f81e-4062-c444-aa5f065cc45f",
        "colab": {
          "base_uri": "https://localhost:8080/"
        }
      },
      "outputs": [
        {
          "output_type": "execute_result",
          "data": {
            "text/plain": [
              "2"
            ]
          },
          "metadata": {},
          "execution_count": 5
        }
      ],
      "source": [
        "vacation_days = 1\n",
        "if vacation_days:\n",
        "    # this is run\n",
        "    vacation_days += 1\n",
        "vacation_days"
      ]
    },
    {
      "cell_type": "markdown",
      "metadata": {
        "id": "9KQMPLS0MqEf"
      },
      "source": [
        "Even though `vacation_days` did not evaluate to `True`, it still ran the code in the `if` block because the value for `vacation_days` was `1`, which is considered `truthy`.\n",
        "\n",
        "So, from this we can surmise that numbers are **truthy** values. EXCEPT, in Python `0` is **not** considered a truthy value.   "
      ]
    },
    {
      "cell_type": "code",
      "execution_count": 6,
      "metadata": {
        "id": "rY1XZdq0MqEf",
        "outputId": "d35e6d44-5e13-4ac8-9a48-f27f804434af",
        "colab": {
          "base_uri": "https://localhost:8080/"
        }
      },
      "outputs": [
        {
          "output_type": "execute_result",
          "data": {
            "text/plain": [
              "0"
            ]
          },
          "metadata": {},
          "execution_count": 6
        }
      ],
      "source": [
        "vacation_days = 0\n",
        "if vacation_days:\n",
        "    # this is not run\n",
        "    vacation_days += 1\n",
        "vacation_days"
      ]
    },
    {
      "cell_type": "markdown",
      "metadata": {
        "id": "coRtae-iMqEf"
      },
      "source": [
        "If `0` is **not truthy**, and it is not `True` or `False`, what is it? Just as Python has **truthy** values, it has **falsy** values (or values that are treated as False in conditional statements), and `0` is considered a falsy value.\n",
        "\n",
        "Above, we can see that the `if` block was not run and `vacation_days` was not incremented, almost as if `vacation_days` evaluated to `False`.\n",
        "\n",
        "So what is truthy and what is falsy in Python?  Zero is falsy, and `None` is falsy.  Also falsy are values like empty strings (`\"\"`) and empty lists (`[]`), which we will learn more about in later lessons. Let's take a look at this."
      ]
    },
    {
      "cell_type": "code",
      "execution_count": 7,
      "metadata": {
        "scrolled": true,
        "id": "CJyUTUBfMqEf",
        "outputId": "37d99e51-cf64-4d18-e80f-ed7da178b09a",
        "colab": {
          "base_uri": "https://localhost:8080/",
          "height": 35
        }
      },
      "outputs": [
        {
          "output_type": "execute_result",
          "data": {
            "text/plain": [
              "'Goodbye'"
            ],
            "application/vnd.google.colaboratory.intrinsic+json": {
              "type": "string"
            }
          },
          "metadata": {},
          "execution_count": 7
        }
      ],
      "source": [
        "greeting = ''\n",
        "if greeting:\n",
        "    greeting += 'Hello'\n",
        "else:\n",
        "    greeting += 'Goodbye'\n",
        "greeting"
      ]
    },
    {
      "cell_type": "markdown",
      "metadata": {
        "id": "fNT53-KaMqEf"
      },
      "source": [
        "If we are ever curious about the whether something is truthy or falsy in Python, we can just ask with the `bool` function."
      ]
    },
    {
      "cell_type": "code",
      "execution_count": 8,
      "metadata": {
        "scrolled": true,
        "id": "nxieAKTtMqEf",
        "outputId": "9b47905e-c5ab-4753-aaff-d733c365bf15",
        "colab": {
          "base_uri": "https://localhost:8080/"
        }
      },
      "outputs": [
        {
          "output_type": "execute_result",
          "data": {
            "text/plain": [
              "False"
            ]
          },
          "metadata": {},
          "execution_count": 8
        }
      ],
      "source": [
        "bool(0) # False"
      ]
    },
    {
      "cell_type": "code",
      "execution_count": 9,
      "metadata": {
        "id": "wVhp4JvzMqEg",
        "outputId": "b9411288-bdf8-4a56-9ada-cbc36bda9526",
        "colab": {
          "base_uri": "https://localhost:8080/"
        }
      },
      "outputs": [
        {
          "output_type": "execute_result",
          "data": {
            "text/plain": [
              "True"
            ]
          },
          "metadata": {},
          "execution_count": 9
        }
      ],
      "source": [
        "bool(1) # True"
      ]
    },
    {
      "cell_type": "code",
      "execution_count": 10,
      "metadata": {
        "scrolled": true,
        "id": "R7vJjP2YMqEg",
        "outputId": "437b6896-1271-47e7-ddd7-2eb8c63c43a4",
        "colab": {
          "base_uri": "https://localhost:8080/"
        }
      },
      "outputs": [
        {
          "output_type": "execute_result",
          "data": {
            "text/plain": [
              "False"
            ]
          },
          "metadata": {},
          "execution_count": 10
        }
      ],
      "source": [
        "bool('')"
      ]
    },
    {
      "cell_type": "code",
      "execution_count": 11,
      "metadata": {
        "id": "QxD_hMcdMqEg",
        "outputId": "64b21897-f9f3-4bb3-85d5-7efbc9e0d76f",
        "colab": {
          "base_uri": "https://localhost:8080/"
        }
      },
      "outputs": [
        {
          "output_type": "execute_result",
          "data": {
            "text/plain": [
              "False"
            ]
          },
          "metadata": {},
          "execution_count": 11
        }
      ],
      "source": [
        "bool([])"
      ]
    },
    {
      "cell_type": "markdown",
      "metadata": {
        "id": "qOxtBSJoMqEg"
      },
      "source": [
        "Boolean values (`True` and `False`) can also be used in mathematical equations. `True` is set to 1 and `False` is set to 0."
      ]
    },
    {
      "cell_type": "code",
      "execution_count": 12,
      "metadata": {
        "id": "k0MiOMtXMqEg",
        "outputId": "f01e7c3e-a311-41af-94e4-0b89174e31f3",
        "colab": {
          "base_uri": "https://localhost:8080/"
        }
      },
      "outputs": [
        {
          "output_type": "execute_result",
          "data": {
            "text/plain": [
              "7"
            ]
          },
          "metadata": {},
          "execution_count": 12
        }
      ],
      "source": [
        "True + 5 + True"
      ]
    },
    {
      "cell_type": "code",
      "execution_count": 13,
      "metadata": {
        "id": "fBhfTlHLMqEg",
        "outputId": "581d2e29-87f4-489c-827f-4e9bc211e690",
        "colab": {
          "base_uri": "https://localhost:8080/"
        }
      },
      "outputs": [
        {
          "output_type": "execute_result",
          "data": {
            "text/plain": [
              "2"
            ]
          },
          "metadata": {},
          "execution_count": 13
        }
      ],
      "source": [
        "True - False - False + True"
      ]
    },
    {
      "cell_type": "code",
      "execution_count": null,
      "metadata": {
        "id": "MrNFDOVqMqEg",
        "outputId": "11aeba9a-40b6-428f-b98d-f8236fcfd4f5"
      },
      "outputs": [
        {
          "data": {
            "text/plain": [
              "4"
            ]
          },
          "execution_count": 15,
          "metadata": {},
          "output_type": "execute_result"
        }
      ],
      "source": [
        "True * 4"
      ]
    },
    {
      "cell_type": "markdown",
      "metadata": {
        "id": "XP_ujg34MqEg"
      },
      "source": [
        "We can see how this can be put to use in an If statement"
      ]
    },
    {
      "cell_type": "code",
      "execution_count": 14,
      "metadata": {
        "id": "ZCpSY_n6MqEg",
        "outputId": "f6da196d-3467-4808-c636-6fd0665c1c0a",
        "colab": {
          "base_uri": "https://localhost:8080/"
        }
      },
      "outputs": [
        {
          "output_type": "stream",
          "name": "stdout",
          "text": [
            "Truthy\n"
          ]
        }
      ],
      "source": [
        "test_var = 1\n",
        "\n",
        "if test_var:\n",
        "    print('Truthy')\n",
        "else:\n",
        "    print('Falsey')"
      ]
    },
    {
      "cell_type": "markdown",
      "metadata": {
        "collapsed": true,
        "id": "3DZAMXF1MqEg"
      },
      "source": [
        "## Using Data to Make Decisions\n",
        "\n",
        "Our code in conditional arguments becomes more interesting when we use conditional arguments that are less direct than just `True` or `False`.\n",
        "\n",
        "Let's say you have a management system that allows employees to put in their vacation days and the system has a way of auto tagging vacations as disruptive, average, or minimal based on the number of days being taken off. This helps to give immediate feedback for you so that you can make sure to plan deadlines and staff projects  appropriately. So, we'll use conditional statements that use the number of days taken off as the input to figure out if the vacation is disruptive, normal, or minimal.\n",
        "\n",
        "Let's start out with just creating logic that creates a tag for disruptive vacations or vacations longer than 5 days off of work. All other vacations can be tagged as average."
      ]
    },
    {
      "cell_type": "code",
      "execution_count": 15,
      "metadata": {
        "id": "qHSlFmAvMqEh",
        "outputId": "35efb15b-2c08-4e25-92ea-b7e636a417f5",
        "colab": {
          "base_uri": "https://localhost:8080/"
        }
      },
      "outputs": [
        {
          "output_type": "stream",
          "name": "stdout",
          "text": [
            "#disruptive\n"
          ]
        }
      ],
      "source": [
        "number_of_days = 7\n",
        "if number_of_days > 5:\n",
        "    print(\"#disruptive\")\n",
        "else:\n",
        "    print(\"#average\")"
      ]
    },
    {
      "cell_type": "markdown",
      "metadata": {
        "id": "tpqY7T6LMqEh"
      },
      "source": [
        "Great, now what if we want to tag vacations that are under 3 days off as minimally disruptive? Well, we don't want to create a new if block entirely. If we do, then our else statement will always run and we'll get `#average` and `#minimal`, which is not what we want.\n",
        "\n",
        "So, we'll have to use an `elif` statement."
      ]
    },
    {
      "cell_type": "code",
      "execution_count": 16,
      "metadata": {
        "id": "4dmAD-oRMqEh",
        "outputId": "973abe26-33da-4605-9d49-c062cbdc0261",
        "colab": {
          "base_uri": "https://localhost:8080/"
        }
      },
      "outputs": [
        {
          "output_type": "stream",
          "name": "stdout",
          "text": [
            "#minimal\n"
          ]
        }
      ],
      "source": [
        "number_of_days = 2\n",
        "if number_of_days > 5:\n",
        "    print(\"#disruptive\")\n",
        "elif number_of_days < 3:\n",
        "    print(\"#minimal\")\n",
        "else:\n",
        "    print(\"#average\")"
      ]
    },
    {
      "cell_type": "code",
      "execution_count": 17,
      "metadata": {
        "id": "2AEyHGNbMqEh",
        "outputId": "0bac7ae7-672a-48b1-9338-fdf1d64e5eec",
        "colab": {
          "base_uri": "https://localhost:8080/"
        }
      },
      "outputs": [
        {
          "output_type": "stream",
          "name": "stdout",
          "text": [
            "#average\n"
          ]
        }
      ],
      "source": [
        "number_of_days = 3\n",
        "if number_of_days > 5:\n",
        "    print(\"#disruptive\")\n",
        "elif number_of_days < 3:\n",
        "    print(\"#minimal\")\n",
        "else:\n",
        "    print(\"#average\")"
      ]
    },
    {
      "cell_type": "markdown",
      "metadata": {
        "id": "57oAIOqjMqEh"
      },
      "source": [
        "We can see how powerful this kind of code can be to creating dynamic and efficient programs and to makings decisions. Now, there is no need for anyone to manually rank each employee's vacations and we now have a system that flags vacations that might need some special planning by management in order to keep work running smoothly.\n",
        "\n",
        "## Summary\n",
        "\n",
        "In this lesson, we saw how conditionals allow us to make decisions with our code by only executing code under the `if` statement when the conditional argument is `True` or truthy.  We then saw how we can use the `else` statement to only run code when the conditional argument is `False` or falsy, and as we know, code that is not in a conditional block is still run as normal. Next, we examined what is truthy or falsy, and saw that None, 0, empty strings, and lists are all falsy. If we are unsure, we can use the `bool` function to see the boolean equivalent of a piece of data. Finally, we used `if`, `elif`, and `else` statements together to make decisions based on the conditions of our problem."
      ]
    }
  ],
  "metadata": {
    "kernelspec": {
      "display_name": "Python (learn-env)",
      "language": "python",
      "name": "learn-env"
    },
    "language_info": {
      "codemirror_mode": {
        "name": "ipython",
        "version": 3
      },
      "file_extension": ".py",
      "mimetype": "text/x-python",
      "name": "python",
      "nbconvert_exporter": "python",
      "pygments_lexer": "ipython3",
      "version": "3.8.5"
    },
    "toc": {
      "base_numbering": 1,
      "nav_menu": {},
      "number_sections": true,
      "sideBar": true,
      "skip_h1_title": false,
      "title_cell": "Table of Contents",
      "title_sidebar": "Contents",
      "toc_cell": false,
      "toc_position": {},
      "toc_section_display": true,
      "toc_window_display": false
    },
    "colab": {
      "provenance": [],
      "include_colab_link": true
    }
  },
  "nbformat": 4,
  "nbformat_minor": 0
}